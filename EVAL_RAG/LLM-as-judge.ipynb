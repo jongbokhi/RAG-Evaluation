{
 "cells": [
  {
   "cell_type": "markdown",
   "id": "552e8fe3",
   "metadata": {},
   "source": [
    "## LLM-as-Judge"
   ]
  },
  {
   "cell_type": "code",
   "execution_count": null,
   "id": "a4517d72",
   "metadata": {},
   "outputs": [],
   "source": [
    "# ===== All Required Libraries =====\n",
    "\n",
    "# Environment Setup\n",
    "from dotenv import load_dotenv\n",
    "\n",
    "# LangChain Related\n",
    "from langchain_teddynote import logging\n",
    "from langchain_openai import ChatOpenAI\n",
    "\n",
    "# Data Processing\n",
    "import pandas as pd\n",
    "\n",
    "# LangSmith\n",
    "from langsmith import Client\n",
    "\n",
    "# Custom Modules\n",
    "from RAGPDF import PDFRAG\n",
    "from evaluator import correctness, groundedness, helpfulness, retrieval_relevance"
   ]
  },
  {
   "cell_type": "code",
   "execution_count": null,
   "id": "46455434",
   "metadata": {},
   "outputs": [
    {
     "data": {
      "text/plain": [
       "True"
      ]
     },
     "execution_count": 1,
     "metadata": {},
     "output_type": "execute_result"
    }
   ],
   "source": [
    "# Load API KEY\n",
    "load_dotenv()"
   ]
  },
  {
   "cell_type": "code",
   "execution_count": null,
   "id": "261328ce",
   "metadata": {},
   "outputs": [],
   "source": [
    "from langchain_teddynote import logging\n",
    "\n",
    "# Put project name\n",
    "logging.langsmith(\"Evaluation Test\")"
   ]
  },
  {
   "cell_type": "markdown",
   "id": "0d98929b",
   "metadata": {},
   "source": [
    "## Load Synthetic dataset"
   ]
  },
  {
   "cell_type": "code",
   "execution_count": null,
   "id": "d7067587",
   "metadata": {},
   "outputs": [],
   "source": [
    "df = pd.read_csv(\"../ragas_synthetic_dataset.csv\")"
   ]
  },
  {
   "cell_type": "code",
   "execution_count": null,
   "id": "e2892e78",
   "metadata": {},
   "outputs": [],
   "source": [
    "df.head()"
   ]
  },
  {
   "cell_type": "markdown",
   "id": "876e6952",
   "metadata": {},
   "source": [
    "### Set RAG"
   ]
  },
  {
   "cell_type": "code",
   "execution_count": null,
   "id": "d18c2c14",
   "metadata": {},
   "outputs": [],
   "source": [
    "FILE_PATH = \"Your file path\""
   ]
  },
  {
   "cell_type": "code",
   "execution_count": null,
   "id": "7964de88",
   "metadata": {},
   "outputs": [],
   "source": [
    "from RAGPDF import PDFRAG\n",
    "from langchain_openai import ChatOpenAI\n",
    "\n",
    "rag = PDFRAG(file_path=FILE_PATH, llm=ChatOpenAI(model=\"gpt-4.1-mini\", temperature=0))\n",
    "\n",
    "# Creat Retriever\n",
    "retriever = rag.create_retriever()\n",
    "\n",
    "# Create RAG chain\n",
    "chain = rag.create_chain(retriever)\n",
    "\n",
    "# generate answer\n",
    "chain.invoke(\"2024년 UN e-Government Survey에서 호주 순위를 알려줘\")"
   ]
  },
  {
   "cell_type": "code",
   "execution_count": 7,
   "id": "ddf185ad",
   "metadata": {},
   "outputs": [],
   "source": [
    "def ask_question(inputs: dict) -> dict:\n",
    "    # extract value of \"input\"\n",
    "    question = inputs.get(\"input\")\n",
    "\n",
    "    # retrieve documents\n",
    "    retrieved_docs = retriever.invoke(question)\n",
    "    answer = chain.invoke(question)\n",
    "\n",
    "    return {\"answer\": answer, \"documents\": retrieved_docs}"
   ]
  },
  {
   "cell_type": "code",
   "execution_count": 8,
   "id": "9d7b3980",
   "metadata": {},
   "outputs": [],
   "source": [
    "## test code for RAG\n",
    "\n",
    "# generated_answer = ask_question(\n",
    "\n",
    "#     {\"input\": \"2024년 UN e-Government Survey에서 호주 순위를 알려줘\"}\n",
    "\n",
    "# )\n",
    "\n",
    "# print(generated_answer)"
   ]
  },
  {
   "cell_type": "markdown",
   "id": "94b202e1",
   "metadata": {},
   "source": [
    "## Create Dataset for LangSmith Test "
   ]
  },
  {
   "cell_type": "code",
   "execution_count": 9,
   "id": "34043b23",
   "metadata": {},
   "outputs": [],
   "source": [
    "## Use this function to create a dataset in LangSmith\n",
    "\n",
    "# def create_dataset(client, dataset_name, description=None):\n",
    "#     for dataset in client.list_datasets():\n",
    "#         if dataset.name == dataset_name:\n",
    "#             return dataset\n",
    "\n",
    "#     dataset = client.create_dataset(\n",
    "#         dataset_name=dataset_name,\n",
    "#         description=description,\n",
    "#     )\n",
    "\n",
    "#     return dataset"
   ]
  },
  {
   "cell_type": "code",
   "execution_count": null,
   "id": "f45ae6bd",
   "metadata": {},
   "outputs": [],
   "source": [
    "client = Client()\n",
    "dataset_name = \"RAG_EVAL_DATASET\""
   ]
  },
  {
   "cell_type": "code",
   "execution_count": 11,
   "id": "2525dd93",
   "metadata": {},
   "outputs": [],
   "source": [
    "### Use this code add examples to dataset in LangSmith\n",
    "\n",
    "### Create Dataset\n",
    "\n",
    "# dataset = create_dataset(client, dataset_name)\n",
    "\n",
    "\n",
    "### add examples to dataset\n",
    "\n",
    "# client.create_examples(\n",
    "\n",
    "#     inputs=[{\"input\": q} for q in df[\"user_input\"]],\n",
    "\n",
    "#     outputs=[{\"output\": q} for q in df[\"reference\"]],\n",
    "\n",
    "#     dataset_id=dataset.id,\n",
    "\n",
    "# )"
   ]
  },
  {
   "cell_type": "markdown",
   "id": "2dc87479",
   "metadata": {},
   "source": [
    "## RUN Evaluation with LangSmith"
   ]
  },
  {
   "cell_type": "code",
   "execution_count": 12,
   "id": "c51a8733",
   "metadata": {},
   "outputs": [],
   "source": [
    "from evaluator import correctness, groundedness, helpfulness, retrieval_relevance\n",
    "\n",
    "metrics = [correctness, groundedness, helpfulness, retrieval_relevance]"
   ]
  },
  {
   "cell_type": "code",
   "execution_count": 13,
   "id": "dadb1eb0",
   "metadata": {},
   "outputs": [
    {
     "name": "stderr",
     "output_type": "stream",
     "text": [
      "c:\\Users\\jongb\\dev\\jb_langchain\\.venv\\Lib\\site-packages\\tqdm\\auto.py:21: TqdmWarning: IProgress not found. Please update jupyter and ipywidgets. See https://ipywidgets.readthedocs.io/en/stable/user_install.html\n",
      "  from .autonotebook import tqdm as notebook_tqdm\n"
     ]
    },
    {
     "name": "stdout",
     "output_type": "stream",
     "text": [
      "View the evaluation results for experiment: 'rag-test_eval-88133be1' at:\n",
      "https://smith.langchain.com/o/d509ef49-7de3-442d-8ac5-641ba83c50aa/datasets/a3485372-bd84-42da-ac46-c5776061f0cb/compare?selectedSessions=18f33eed-267c-4f11-b3db-db8186adaea4\n",
      "\n",
      "\n"
     ]
    },
    {
     "name": "stderr",
     "output_type": "stream",
     "text": [
      "12it [04:28, 22.37s/it]\n"
     ]
    }
   ],
   "source": [
    "dataset_name = \"RAG_EVAL_DATASET\"\n",
    "\n",
    "# run evaluation\n",
    "experiment_results = client.evaluate(\n",
    "    ask_question,\n",
    "    data=dataset_name,\n",
    "    evaluators=[correctness, groundedness, helpfulness, retrieval_relevance],\n",
    "    experiment_prefix=\"rag-test_eval\",\n",
    "    metadata={\"model\": \"gpt-4.1-mini\", \"variant\": \"RAG EVALUATION\"},\n",
    ")"
   ]
  },
  {
   "cell_type": "code",
   "execution_count": null,
   "id": "9c055fcb",
   "metadata": {},
   "outputs": [],
   "source": []
  }
 ],
 "metadata": {
  "kernelspec": {
   "display_name": ".venv",
   "language": "python",
   "name": "python3"
  },
  "language_info": {
   "codemirror_mode": {
    "name": "ipython",
    "version": 3
   },
   "file_extension": ".py",
   "mimetype": "text/x-python",
   "name": "python",
   "nbconvert_exporter": "python",
   "pygments_lexer": "ipython3",
   "version": "3.12.0"
  }
 },
 "nbformat": 4,
 "nbformat_minor": 5
}
